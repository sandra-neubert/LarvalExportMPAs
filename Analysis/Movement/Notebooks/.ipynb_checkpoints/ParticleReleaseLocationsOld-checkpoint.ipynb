{
 "cells": [
  {
   "cell_type": "markdown",
   "id": "487979dd",
   "metadata": {},
   "source": [
    "### 1. Load Packages"
   ]
  },
  {
   "cell_type": "code",
   "execution_count": 1,
   "id": "9278df48",
   "metadata": {},
   "outputs": [
    {
     "data": {
      "text/plain": [
       "<matplotlib.pyplot._IonContext at 0x1bc2423b970>"
      ]
     },
     "execution_count": 1,
     "metadata": {},
     "output_type": "execute_result"
    }
   ],
   "source": [
    "import os\n",
    "import numpy as np\n",
    "import xarray as xr\n",
    "import geopandas as gp\n",
    "import pandas as pd\n",
    "\n",
    "import cmocean\n",
    "\n",
    "import cartopy\n",
    "import cartopy.crs as ccrs\n",
    "import cartopy.feature as cfeature\n",
    "from cartopy.mpl.gridliner import LONGITUDE_FORMATTER, LATITUDE_FORMATTER\n",
    "cartopy.config['data_dir'] = os.getenv('CARTOPY_DIR', cartopy.config.get('data_dir'))\n",
    "\n",
    "from parcels import FieldSet, Field, ParticleSet, Variable, JITParticle\n",
    "from parcels import AdvectionRK4, plotTrajectoriesFile, ErrorCode\n",
    "\n",
    "import math\n",
    "from datetime import timedelta as delta\n",
    "from operator import attrgetter\n",
    "\n",
    "from matplotlib import pyplot as plt\n",
    "#%config InlineBackend.figure_format = 'retina'\n",
    "plt.ion()  # To trigger the interactive inline mode"
   ]
  },
  {
   "cell_type": "markdown",
   "id": "f6bc81cd",
   "metadata": {},
   "source": [
    "OFES data was in cm/s NOT in m/s!!!!"
   ]
  },
  {
   "cell_type": "raw",
   "id": "93a72fb5",
   "metadata": {},
   "source": [
    "file = 'OfESncep01globalmmeanu.nc'\n",
    "\n",
    "path = 'C:\\\\Users\\\\sandr\\\\Documents\\\\Github\\\\ThesisSandra\\\\Analysis\\\\Movement\\\\TracerDataAndOutput\\\\OFES\\\\'\n",
    "ds = xr.open_dataset(path+file)\n",
    "ds.uvel.values = (ds.uvel.values)/100\n",
    "\n",
    "ds.to_netcdf(path+\"OfESncep01globalmmeanuMS.nc\")\n",
    "\n",
    "file = 'OfESncep01globalmmeanv.nc'\n",
    "ds = xr.open_dataset(path+file)\n",
    "ds.vvel.values = (ds.vvel.values)/100\n",
    "\n",
    "ds.to_netcdf(path+\"OfESncep01globalmmeanvMS.nc\")"
   ]
  },
  {
   "cell_type": "code",
   "execution_count": 4,
   "id": "a89c89cd",
   "metadata": {},
   "outputs": [
    {
     "data": {
      "text/html": [
       "<div>\n",
       "<style scoped>\n",
       "    .dataframe tbody tr th:only-of-type {\n",
       "        vertical-align: middle;\n",
       "    }\n",
       "\n",
       "    .dataframe tbody tr th {\n",
       "        vertical-align: top;\n",
       "    }\n",
       "\n",
       "    .dataframe thead th {\n",
       "        text-align: right;\n",
       "    }\n",
       "</style>\n",
       "<table border=\"1\" class=\"dataframe\">\n",
       "  <thead>\n",
       "    <tr style=\"text-align: right;\">\n",
       "      <th></th>\n",
       "      <th>lon</th>\n",
       "      <th>lat</th>\n",
       "    </tr>\n",
       "  </thead>\n",
       "  <tbody>\n",
       "    <tr>\n",
       "      <th>0</th>\n",
       "      <td>18.5</td>\n",
       "      <td>-84.5</td>\n",
       "    </tr>\n",
       "    <tr>\n",
       "      <th>1</th>\n",
       "      <td>19.5</td>\n",
       "      <td>-84.5</td>\n",
       "    </tr>\n",
       "    <tr>\n",
       "      <th>2</th>\n",
       "      <td>20.5</td>\n",
       "      <td>-84.5</td>\n",
       "    </tr>\n",
       "    <tr>\n",
       "      <th>3</th>\n",
       "      <td>21.5</td>\n",
       "      <td>-84.5</td>\n",
       "    </tr>\n",
       "    <tr>\n",
       "      <th>4</th>\n",
       "      <td>22.5</td>\n",
       "      <td>-84.5</td>\n",
       "    </tr>\n",
       "    <tr>\n",
       "      <th>...</th>\n",
       "      <td>...</td>\n",
       "      <td>...</td>\n",
       "    </tr>\n",
       "    <tr>\n",
       "      <th>41023</th>\n",
       "      <td>175.5</td>\n",
       "      <td>88.5</td>\n",
       "    </tr>\n",
       "    <tr>\n",
       "      <th>41024</th>\n",
       "      <td>176.5</td>\n",
       "      <td>88.5</td>\n",
       "    </tr>\n",
       "    <tr>\n",
       "      <th>41025</th>\n",
       "      <td>177.5</td>\n",
       "      <td>88.5</td>\n",
       "    </tr>\n",
       "    <tr>\n",
       "      <th>41026</th>\n",
       "      <td>178.5</td>\n",
       "      <td>88.5</td>\n",
       "    </tr>\n",
       "    <tr>\n",
       "      <th>41027</th>\n",
       "      <td>179.5</td>\n",
       "      <td>88.5</td>\n",
       "    </tr>\n",
       "  </tbody>\n",
       "</table>\n",
       "<p>41028 rows × 2 columns</p>\n",
       "</div>"
      ],
      "text/plain": [
       "         lon   lat\n",
       "0       18.5 -84.5\n",
       "1       19.5 -84.5\n",
       "2       20.5 -84.5\n",
       "3       21.5 -84.5\n",
       "4       22.5 -84.5\n",
       "...      ...   ...\n",
       "41023  175.5  88.5\n",
       "41024  176.5  88.5\n",
       "41025  177.5  88.5\n",
       "41026  178.5  88.5\n",
       "41027  179.5  88.5\n",
       "\n",
       "[41028 rows x 2 columns]"
      ]
     },
     "execution_count": 4,
     "metadata": {},
     "output_type": "execute_result"
    }
   ],
   "source": [
    "df = pd.read_csv('C:\\\\Users\\\\sandr\\\\Documents\\\\Github\\\\ThesisSandra\\\\Analysis\\\\Movement\\\\Data\\\\oceanCellsBOATS.csv', header=None)\n",
    "df = df.rename(columns={df.columns[0]: 'lon', df.columns[1]: 'lat'}).drop(df.columns[2], axis=1)\n",
    "df.lon = df.lon+180"
   ]
  },
  {
   "cell_type": "code",
   "execution_count": null,
   "id": "3b50d5bb",
   "metadata": {},
   "outputs": [],
   "source": [
    "max(df.lat)\n",
    "df2 = df[df.lat < 75]"
   ]
  },
  {
   "cell_type": "code",
   "execution_count": null,
   "id": "93a5bb01",
   "metadata": {},
   "outputs": [],
   "source": [
    "min(df.lat)\n",
    "df3 = df2[df2.lat >(-75)]"
   ]
  },
  {
   "cell_type": "code",
   "execution_count": null,
   "id": "4b3b993b",
   "metadata": {},
   "outputs": [],
   "source": [
    "df4 = df3.reset_index(drop=True)       \n",
    "for i in np.arange(0, len(df4)):\n",
    "    lonVals = np.linspace(df4.lon[i]-0.45, df4.lon[i]+0.45, 10) #to get even steps between released particles within and between cells (released every 0.1°)\n",
    "    latVals = np.linspace(df4.lat[i]-0.45, df4.lat[i]+0.45, 10)\n",
    "    print(i)\n",
    "    \n",
    "    for j in np.arange(0, len(lonVals)):\n",
    "        lonRep = np.repeat(lonVals[j], 10)\n",
    "        partRelease = pd.concat([pd.DataFrame({\"lon\": lonRep}), pd.DataFrame({\"lat\":latVals})], axis=1)\n",
    "        if i == 0 and j == 0:\n",
    "            StartLoc = partRelease\n",
    "        else:\n",
    "            StartLoc = pd.concat([StartLoc, partRelease])\n",
    "\n",
    "StartLoc.to_csv('C:\\\\Users\\\\sandr\\\\Documents\\\\Github\\\\ThesisSandra\\\\Analysis\\\\Movement\\\\Data\\\\ParticleReleaseLocations.csv')\n"
   ]
  },
  {
   "cell_type": "code",
   "execution_count": 5,
   "id": "2b89d3b6",
   "metadata": {},
   "outputs": [
    {
     "name": "stderr",
     "output_type": "stream",
     "text": [
      "C:\\Users\\sandr\\AppData\\Local\\Temp\\ipykernel_2652\\2586067932.py:1: DtypeWarning: Columns (1,2) have mixed types. Specify dtype option on import or set low_memory=False.\n",
      "  StartLocation = pd.read_csv('C:\\\\Users\\\\sandr\\\\Documents\\\\Github\\\\ThesisSandra\\\\Analysis\\\\Movement\\\\Data\\\\ParticleReleaseLocations.csv', header=None).drop(StartLocation.columns[0], axis=1)\n"
     ]
    },
    {
     "ename": "NameError",
     "evalue": "name 'StartLocation' is not defined",
     "output_type": "error",
     "traceback": [
      "\u001b[1;31m---------------------------------------------------------------------------\u001b[0m",
      "\u001b[1;31mNameError\u001b[0m                                 Traceback (most recent call last)",
      "\u001b[1;32m~\\AppData\\Local\\Temp\\ipykernel_2652\\2586067932.py\u001b[0m in \u001b[0;36m<module>\u001b[1;34m\u001b[0m\n\u001b[1;32m----> 1\u001b[1;33m \u001b[0mStartLocation\u001b[0m \u001b[1;33m=\u001b[0m \u001b[0mpd\u001b[0m\u001b[1;33m.\u001b[0m\u001b[0mread_csv\u001b[0m\u001b[1;33m(\u001b[0m\u001b[1;34m'C:\\\\Users\\\\sandr\\\\Documents\\\\Github\\\\ThesisSandra\\\\Analysis\\\\Movement\\\\Data\\\\ParticleReleaseLocations.csv'\u001b[0m\u001b[1;33m,\u001b[0m \u001b[0mheader\u001b[0m\u001b[1;33m=\u001b[0m\u001b[1;32mNone\u001b[0m\u001b[1;33m)\u001b[0m\u001b[1;33m.\u001b[0m\u001b[0mdrop\u001b[0m\u001b[1;33m(\u001b[0m\u001b[0mStartLocation\u001b[0m\u001b[1;33m.\u001b[0m\u001b[0mcolumns\u001b[0m\u001b[1;33m[\u001b[0m\u001b[1;36m0\u001b[0m\u001b[1;33m]\u001b[0m\u001b[1;33m,\u001b[0m \u001b[0maxis\u001b[0m\u001b[1;33m=\u001b[0m\u001b[1;36m1\u001b[0m\u001b[1;33m)\u001b[0m\u001b[1;33m\u001b[0m\u001b[1;33m\u001b[0m\u001b[0m\n\u001b[0m\u001b[0;32m      2\u001b[0m \u001b[0mStartLocation\u001b[0m\u001b[1;33m\u001b[0m\u001b[1;33m\u001b[0m\u001b[0m\n",
      "\u001b[1;31mNameError\u001b[0m: name 'StartLocation' is not defined"
     ]
    }
   ],
   "source": [
    "StartLocations = pd.read_csv('C:\\\\Users\\\\sandr\\\\Documents\\\\Github\\\\ThesisSandra\\\\Analysis\\\\Movement\\\\Data\\\\ParticleReleaseLocations.csv', header=None).drop(StartLocation.columns[0], axis=1)\n",
    "StartLocations"
   ]
  },
  {
   "cell_type": "code",
   "execution_count": null,
   "id": "239407d9",
   "metadata": {},
   "outputs": [],
   "source": [
    "gdfStartLocations = gp.GeoDataFrame(\n",
    "    StartLocations, geometry=gp.points_from_xy(df.lon,df.lat))\n",
    "gdfStartLocations = gdfStartLocations.set_crs('epsg:4326')\n",
    "gdfStartLocations"
   ]
  }
 ],
 "metadata": {
  "kernelspec": {
   "display_name": "Python 3 (ipykernel)",
   "language": "python",
   "name": "python3"
  },
  "language_info": {
   "codemirror_mode": {
    "name": "ipython",
    "version": 3
   },
   "file_extension": ".py",
   "mimetype": "text/x-python",
   "name": "python",
   "nbconvert_exporter": "python",
   "pygments_lexer": "ipython3",
   "version": "3.9.13"
  }
 },
 "nbformat": 4,
 "nbformat_minor": 5
}
