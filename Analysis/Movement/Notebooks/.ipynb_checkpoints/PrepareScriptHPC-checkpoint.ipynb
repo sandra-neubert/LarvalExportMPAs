{
 "cells": [
  {
   "cell_type": "markdown",
   "id": "102c6bce",
   "metadata": {},
   "source": [
    "# Release of 100 Particles in each Ocean Cell of BOATS using OceansParcels"
   ]
  },
  {
   "cell_type": "markdown",
   "id": "c5e492e9",
   "metadata": {},
   "source": [
    "Sandra Neubert\n",
    "14/12/2022"
   ]
  },
  {
   "cell_type": "markdown",
   "id": "6b57cf84",
   "metadata": {},
   "source": [
    "## Background"
   ]
  },
  {
   "cell_type": "markdown",
   "id": "7808df90",
   "metadata": {},
   "source": [
    "The overall goal is to inlcude larval movement in the ecological module of BOATS. To this end, we explore an appraoch based on [van Sebille (2011)](https://doi.org/10.1175/2011JPO4602.1) to create transition matrices giving the probability of moving from a $cell_{i,j}$ to the eight directly adjacent cells. Since actual (drifter) data is not available for all parts of the ocean, we explore an alternative approach that uses particle tracking simulations to generate simulated data for later probability calculations. We will use the Python package OceanParcels ([Delandmeter and van Sebille, 2019](https://www.geosci-model-dev.net/12/3571/2019/gmd-12-3571-2019.html)) to track particles."
   ]
  },
  {
   "cell_type": "markdown",
   "id": "0d705f96",
   "metadata": {},
   "source": [
    "### Setup "
   ]
  },
  {
   "cell_type": "markdown",
   "id": "97111e89",
   "metadata": {},
   "source": [
    "***Important comment:*** <br/>\n",
    "Error for netcdf4 package unless right combination of Python (3.9) and netcdf4 (1.5.7) is used (DLL not found, Anaconda venv issue with windows). To create a working venv, run:"
   ]
  },
  {
   "cell_type": "markdown",
   "id": "83082905",
   "metadata": {},
   "source": [
    "`conda create -n yourEnvName python=3.9`"
   ]
  },
  {
   "cell_type": "markdown",
   "id": "1071e324",
   "metadata": {},
   "source": [
    "`conda activate yourEnvName #here: py3_parcels3`"
   ]
  },
  {
   "cell_type": "markdown",
   "id": "8a3bd032",
   "metadata": {},
   "source": [
    "`conda install -c conda-forge parcels jupyter spyder cartopy ffmpeg netcdf4=1.5.7`"
   ]
  },
  {
   "cell_type": "markdown",
   "id": "e9e382aa",
   "metadata": {},
   "source": [
    "To test if netcdf4 is working run (in Jupyter or Spyder or with python):"
   ]
  },
  {
   "cell_type": "markdown",
   "id": "7170d677",
   "metadata": {},
   "source": [
    "`from netCDF4 import Dataset`"
   ]
  },
  {
   "cell_type": "markdown",
   "id": "487979dd",
   "metadata": {},
   "source": [
    "### 1. Load Packages"
   ]
  },
  {
   "cell_type": "code",
   "execution_count": null,
   "id": "9278df48",
   "metadata": {},
   "outputs": [],
   "source": [
    "import os\n",
    "import numpy as np\n",
    "import xarray as xr\n",
    "import geopandas as gp\n",
    "import pandas as pd\n",
    "\n",
    "from parcels import FieldSet, Field, ParticleSet, Variable, JITParticle\n",
    "from parcels import AdvectionRK4, plotTrajectoriesFile, ErrorCode\n",
    "\n",
    "import math\n",
    "from datetime import timedelta as delta\n",
    "from operator import attrgetter"
   ]
  },
  {
   "cell_type": "markdown",
   "id": "8266698d",
   "metadata": {},
   "source": [
    "### 2. Data"
   ]
  },
  {
   "cell_type": "markdown",
   "id": "a6493f80",
   "metadata": {},
   "source": [
    "### 2.1 Hydrodynamic Model Data"
   ]
  },
  {
   "cell_type": "markdown",
   "id": "299b321a",
   "metadata": {},
   "source": [
    "[OFES data](http://apdrc.soest.hawaii.edu/erddap/search/index.html?page=1&itemsPerPage=1000&searchFor=OfES+ncep+0.5+global+mmean), specifically [zonal velocity (u)](http://apdrc.soest.hawaii.edu/erddap/griddap/hawaii_soest_6c0d_24b8_6937.html) and [meridional velocity (v)](http://apdrc.soest.hawaii.edu/erddap/griddap/hawaii_soest_c66b_2477_13c0.html) can be downloaded by selecting the desired intervals (here: 2015-01-15 to 2019-12-15T00:00:00, for 2.5-2.5 m (one layer) LEV), and then *submitting* after selecting *.nc* as the file type (or .csv when .nc is too big).\n"
   ]
  },
  {
   "cell_type": "code",
   "execution_count": null,
   "id": "4ffbeb54",
   "metadata": {},
   "outputs": [],
   "source": [
    "dataPath = \"C:\\\\Users\\\\sandr\\\\Documents\\\\Github\\ThesisSandra\\\\Analysis\\\\Movement\\\\TracerDataAndOutput\\\\OFES\\\\\"\n",
    "ufiles = dataPath + \"OfESncep01globalmmeanu20152019MS.nc\"\n",
    "vfiles = dataPath + \"OfESncep01globalmmeanv20152019MS.nc\"\n",
    "filenames = {'U': ufiles,\n",
    "             'V': vfiles}\n",
    "\n",
    "variables = {'U': 'u',\n",
    "             'V': 'v'}\n",
    "dimensions = {'lat': 'latitude',\n",
    "              'lon': 'longitude',\n",
    "              'time': 'time'}"
   ]
  },
  {
   "cell_type": "markdown",
   "id": "891656c7",
   "metadata": {},
   "source": [
    "### 2.2 BOATS Data"
   ]
  },
  {
   "cell_type": "markdown",
   "id": "5bd92d20",
   "metadata": {},
   "source": [
    "Ultimately, we aim to release 100 particles from each grid cell of BOATS monthly for the temporal extent of the OFES data and then calculate monthly (12) probability matrices. Start locations were determined by using the spatial extent of the OFES data which will subsequently be mapped onto the BOATS grid."
   ]
  },
  {
   "cell_type": "code",
   "execution_count": null,
   "id": "4d2661e2",
   "metadata": {},
   "outputs": [],
   "source": [
    "StartLocations = pd.read_csv('C:\\\\Users\\\\sandr\\\\Documents\\\\Github\\\\ThesisSandra\\\\Analysis\\\\Movement\\\\Data\\\\dfOFESStartLocationsGlobal2.csv')\n",
    "StartLocations = df[['lon','lat']]"
   ]
  },
  {
   "cell_type": "markdown",
   "id": "b846b721",
   "metadata": {},
   "source": [
    "### 3. Define Field Set"
   ]
  },
  {
   "cell_type": "code",
   "execution_count": null,
   "id": "c2248820",
   "metadata": {},
   "outputs": [],
   "source": [
    "fieldset = FieldSet.from_netcdf(filenames, variables, dimensions)\n",
    "fieldset.add_constant('maxage', 3.*86400) #get rid of particles after 3 days\n",
    "fieldset.add_periodic_halo(zonal=True) #to not get artifacts around prime meridian (linked to kernel further down)"
   ]
  },
  {
   "cell_type": "markdown",
   "id": "75bce54a",
   "metadata": {},
   "source": [
    "### 4. Define Simulation Conditions"
   ]
  },
  {
   "cell_type": "code",
   "execution_count": null,
   "id": "86152f97",
   "metadata": {},
   "outputs": [],
   "source": [
    "lon_array = StartLocations.lon\n",
    "lat_array = StartLocations.lat\n",
    "\n",
    "npart = 1 #how many particles are released at each location (every time)\n",
    "lon = np.repeat(lon_array, npart)\n",
    "lat = np.repeat(lat_array, npart)"
   ]
  },
  {
   "cell_type": "code",
   "execution_count": null,
   "id": "af2272fb",
   "metadata": {},
   "outputs": [],
   "source": [
    "# How often to release the particles; \n",
    "#Probelm: if I release particles over a long period of time, setting the repeatdt to 30 days leads to particles being released on a different day each month and it gets worse with time\n",
    "#if I set repeatdt at 30.4375, release dates stay around the same\n",
    "repeatdt = delta(days = 30.4375) # release from the same set of locations every months\n",
    "\n",
    "start_time = datetime(2015,1,15)\n",
    "end_time = datetime(2019,11,15)  #year, month, day,\n",
    "\n",
    "runtime = end_time-start_time + delta(days=15) #add some days at the end to make sure tracking can be done for 5 days from the last start location onwards if release date is not exactly on 15th\n",
    "\n",
    "time = 0 #np.arange(0, npart) * delta(days = 30.4375).total_seconds() \n",
    "time"
   ]
  },
  {
   "cell_type": "markdown",
   "id": "8870d41c",
   "metadata": {},
   "source": [
    "### 5. Define Particle Properties"
   ]
  },
  {
   "cell_type": "markdown",
   "id": "4fb64aa0",
   "metadata": {},
   "source": [
    "**Add Beaching kernel**"
   ]
  },
  {
   "cell_type": "code",
   "execution_count": null,
   "id": "21e58ec3",
   "metadata": {},
   "outputs": [],
   "source": [
    "class SampleParticle(JITParticle):         # Define a new particle class\n",
    "        sampled = Variable('sampled', dtype = np.float32, initial = 0, to_write=False)\n",
    "        age = Variable('age', dtype=np.float32, initial=0.) # initialise age\n",
    "        distance = Variable('distance', initial=0., dtype=np.float32)  # the distance travelled\n",
    "        prev_lon = Variable('prev_lon', dtype=np.float32, to_write=False,\n",
    "                            initial=0)  # the previous longitude\n",
    "        prev_lat = Variable('prev_lat', dtype=np.float32, to_write=False,\n",
    "                            initial=0)  # the previous latitude\n",
    "        #beached = Variable('beached', dtype = np.float32, initial = 0)\n",
    "    \n",
    "def DeleteParticle(particle, fieldset, time): #needed to avoid error mesasage of Particle out of bounds\n",
    "    particle.delete()\n",
    "    \n",
    "# Define all the sampling kernels\n",
    "def SampleDistance(particle, fieldset, time):\n",
    "    # Calculate the distance in latitudinal direction (using 1.11e2 kilometer per degree latitude)\n",
    "    lat_dist = (particle.lat - particle.prev_lat) * 1.11e2\n",
    "    # Calculate the distance in longitudinal direction, using cosine(latitude) - spherical earth\n",
    "    lon_dist = (particle.lon - particle.prev_lon) * 1.11e2 * math.cos(particle.lat * math.pi / 180)\n",
    "    # Calculate the total Euclidean distance travelled by the particle\n",
    "    particle.distance += math.sqrt(math.pow(lon_dist, 2) + math.pow(lat_dist, 2))\n",
    "    particle.prev_lon = particle.lon  # Set the stored values for next iteration.\n",
    "    particle.prev_lat = particle.lat\n",
    "\n",
    "def SampleAge(particle, fieldset, time):\n",
    "    particle.age = particle.age + math.fabs(particle.dt)\n",
    "    if particle.age >= fieldset.maxage: #if not >= : get one more particle tracking point after maxage\n",
    "           particle.delete()\n",
    "            \n",
    "def periodicBC(particle, fieldset, time):\n",
    "    if particle.lon < 0:\n",
    "        particle.lon += 360 - 0\n",
    "    elif particle.lon > 359.9:\n",
    "        particle.lon -= 360 - 0\n",
    "\n",
    "# def Unbeaching(particle, fieldset, time):\n",
    "# #     if particle.age == 0 and particle.u_vel == 0 and particle.v_vel == 0: # velocity = 0 means particle is on land so nudge it eastward\n",
    "# #         particle.lon += random.uniform(0.5, 1) #dont need this because I know my particles dont start on land?\n",
    "#     if particle.u_vel == 0 and particle.v_vel == 0: # if a particle is advected on to land so mark it as beached (=1)\n",
    "#         particle.beached = 1\n",
    "    \n",
    "def SampleInitial(particle, fieldset, time): # do we have to add particle.age and particle.ageRise\n",
    "        if particle.sampled == 0:\n",
    "            particle.distance = particle.distance\n",
    "            particle.prev_lon = particle.lon\n",
    "            particle.prev_lat = particle.lat\n",
    "            #particle.beached = particle.beached\n",
    "            particle.sampled = 1\n",
    "               \n",
    "pset = ParticleSet.from_list(fieldset, \n",
    "                             pclass=SampleParticle, \n",
    "                             time=time, \n",
    "                             lon=lon, \n",
    "                             lat=lat,\n",
    "                             repeatdt=repeatdt)\n"
   ]
  },
  {
   "cell_type": "markdown",
   "id": "a57780df",
   "metadata": {},
   "source": [
    "### 6. Define kernels"
   ]
  },
  {
   "cell_type": "code",
   "execution_count": null,
   "id": "74fa9331",
   "metadata": {},
   "outputs": [],
   "source": [
    "kernels = SampleInitial + pset.Kernel(AdvectionRK4) + periodicBC + SampleAge + SampleDistance"
   ]
  },
  {
   "cell_type": "markdown",
   "id": "3c544bc4",
   "metadata": {},
   "source": [
    "### 7. Execute Particle Tracking"
   ]
  },
  {
   "cell_type": "code",
   "execution_count": null,
   "id": "ceb57eaf",
   "metadata": {},
   "outputs": [],
   "source": [
    "output_nc_dist = 'NearGlobalParticleTrackingOFES.zarr'\n",
    "try:\n",
    "    os.remove(output_nc_dist)\n",
    "except OSError:\n",
    "    pass\n",
    "\n",
    "file_dist = pset.ParticleFile(name=output_nc_dist, \n",
    "                                outputdt=delta(hours=6)) #save location every 6 hours\n",
    "\n",
    "pset.execute(kernels,  \n",
    "             runtime=runtime,\n",
    "             dt=delta(minutes=10), #to reduce computational load\n",
    "             output_file=file_dist,\n",
    "             recovery={ErrorCode.ErrorOutOfBounds: DeleteParticle})"
   ]
  },
  {
   "cell_type": "code",
   "execution_count": null,
   "id": "65caa43b",
   "metadata": {},
   "outputs": [],
   "source": [
    "dfParcels = output_nc_dist.to_dataframe()\n",
    "dfParcels.to_csv(localPath + 'dfParcelsGlobal.csv')"
   ]
  }
 ],
 "metadata": {
  "kernelspec": {
   "display_name": "Python 3 (ipykernel)",
   "language": "python",
   "name": "python3"
  },
  "language_info": {
   "codemirror_mode": {
    "name": "ipython",
    "version": 3
   },
   "file_extension": ".py",
   "mimetype": "text/x-python",
   "name": "python",
   "nbconvert_exporter": "python",
   "pygments_lexer": "ipython3",
   "version": "3.9.13"
  }
 },
 "nbformat": 4,
 "nbformat_minor": 5
}
