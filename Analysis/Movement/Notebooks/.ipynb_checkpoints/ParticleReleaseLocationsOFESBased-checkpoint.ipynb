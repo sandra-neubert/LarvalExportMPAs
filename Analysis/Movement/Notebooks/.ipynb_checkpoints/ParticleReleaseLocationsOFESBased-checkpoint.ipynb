{
 "cells": [
  {
   "cell_type": "markdown",
   "id": "af90629b",
   "metadata": {},
   "source": [
    "Sandra Neubert"
   ]
  },
  {
   "cell_type": "markdown",
   "id": "538b6448",
   "metadata": {},
   "source": [
    "Get OFES based release locations for particles"
   ]
  },
  {
   "cell_type": "code",
   "execution_count": 1,
   "id": "a43e5c67",
   "metadata": {},
   "outputs": [],
   "source": [
    "import os\n",
    "import numpy as np\n",
    "import xarray as xr\n",
    "import geopandas as gp\n",
    "import pandas as pd\n",
    "\n",
    "from parcels import FieldSet, Field, ParticleSet, Variable, JITParticle\n",
    "from parcels import AdvectionRK4, plotTrajectoriesFile, ErrorCode"
   ]
  },
  {
   "cell_type": "code",
   "execution_count": null,
   "id": "ac74e88a",
   "metadata": {},
   "outputs": [],
   "source": [
    "df = pd.read_csv('C:\\\\Users\\\\sandr\\\\Documents\\\\Github\\\\ThesisSandra\\\\Analysis\\\\Movement\\\\Data\\\\dfOFESOCEAN.csv').dropna().reset_index(drop=True)\n",
    "df[\"lon\"] = df.longitude\n",
    "df[\"lat\"] = df.latitude\n",
    "df = df[['lon','lat']]\n",
    "df"
   ]
  },
  {
   "cell_type": "code",
   "execution_count": null,
   "id": "dc3ac1a3",
   "metadata": {
    "scrolled": false
   },
   "outputs": [],
   "source": [
    "StartLocations = df.reset_index(drop=True)       \n",
    "for i in np.arange(0, len(StartLocations)):\n",
    "    lonVals = np.linspace(StartLocations.lon[i]-0.05, StartLocations.lon[i]+0.05, 1) #to get even steps between released particles within and between cells (released every 0.1°)\n",
    "    latVals = np.linspace(StartLocations.lat[i]-0.05, StartLocations.lat[i]+0.05, 1)\n",
    "    print(i)\n",
    "    \n",
    "    for j in np.arange(0, len(lonVals)):\n",
    "        lonRep = np.repeat(lonVals[j], 1)\n",
    "        partRelease = pd.concat([pd.DataFrame({\"lon\": lonRep}), pd.DataFrame({\"lat\":latVals})], axis=1)\n",
    "        if i == 0 and j == 0:\n",
    "            StartLoc = partRelease\n",
    "        else:\n",
    "            StartLoc = pd.concat([StartLoc, partRelease])\n",
    "StartLoc"
   ]
  },
  {
   "cell_type": "code",
   "execution_count": null,
   "id": "a701d005",
   "metadata": {},
   "outputs": [],
   "source": [
    "StartLoc.to_csv('C:\\\\Users\\\\sandr\\\\Documents\\\\Github\\\\ThesisSandra\\\\Analysis\\\\Movement\\\\Data\\\\dfOFESStartLocationsGlobal.csv')"
   ]
  }
 ],
 "metadata": {
  "kernelspec": {
   "display_name": "Python 3 (ipykernel)",
   "language": "python",
   "name": "python3"
  },
  "language_info": {
   "codemirror_mode": {
    "name": "ipython",
    "version": 3
   },
   "file_extension": ".py",
   "mimetype": "text/x-python",
   "name": "python",
   "nbconvert_exporter": "python",
   "pygments_lexer": "ipython3",
   "version": "3.9.13"
  }
 },
 "nbformat": 4,
 "nbformat_minor": 5
}
