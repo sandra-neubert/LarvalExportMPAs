{
 "cells": [
  {
   "cell_type": "markdown",
   "id": "102c6bce",
   "metadata": {},
   "source": [
    "# Dummy Problem for the Movement Algorithm based on Transition Probabilities"
   ]
  },
  {
   "cell_type": "markdown",
   "id": "c5e492e9",
   "metadata": {},
   "source": [
    "Sandra Neubert\n",
    "02/12/2022<br/>\n",
    "venv: live_plot"
   ]
  },
  {
   "cell_type": "markdown",
   "id": "6b57cf84",
   "metadata": {},
   "source": [
    "## Background"
   ]
  },
  {
   "cell_type": "markdown",
   "id": "7808df90",
   "metadata": {},
   "source": [
    "add later"
   ]
  },
  {
   "cell_type": "markdown",
   "id": "baa22b6b",
   "metadata": {},
   "source": [
    "## Algorithm "
   ]
  },
  {
   "cell_type": "markdown",
   "id": "be32cb89",
   "metadata": {},
   "source": [
    "### Load packages"
   ]
  },
  {
   "cell_type": "code",
   "execution_count": 8,
   "id": "96b45b1a",
   "metadata": {},
   "outputs": [],
   "source": [
    "import random\n",
    "import numpy as np\n",
    "import seaborn as sns\n",
    "import matplotlib.pyplot as plt\n",
    "from matplotlib import animation\n",
    "from IPython.display import HTML\n",
    "\n",
    "# Enable interactive plot\n",
    "%matplotlib inline\n",
    "#%matplotlib notebook"
   ]
  },
  {
   "cell_type": "markdown",
   "id": "722095a2",
   "metadata": {},
   "source": [
    "### Define functions"
   ]
  },
  {
   "cell_type": "code",
   "execution_count": 29,
   "id": "14fe501b",
   "metadata": {},
   "outputs": [],
   "source": [
    "def indicesNeighbours(i, j, MatInd, dimM, dimP):\n",
    "    #inputs: \n",
    "    # i: row Number\n",
    "    # j: col Number\n",
    "    # MatInd: matrix with indices for biomass matrix cells\n",
    "    # dimM: x-dimension of biomass matrix\n",
    "    # dimP: x-dimension of probability matrix\n",
    "\n",
    "    #outputs:\n",
    "    # cellNum: cell currently looked at and the four directly\n",
    "    # adjacent cells: N(orth),S(outh),W(est),E(ast)\n",
    "    \n",
    "    cellNum = MatInd[i,j]\n",
    "    \n",
    "    if i == 0: #Later: can just set probability to 0 for going up or down from first or last row respectively\n",
    "        N = MatInd[i,j] + dimM - 1\n",
    "        S = MatInd[i,j] + 1\n",
    "\n",
    "    elif i == (dimM-1):\n",
    "        N = MatInd[i,j] - 1\n",
    "        S = MatInd[i,j] - dimM + 1\n",
    "\n",
    "    else:\n",
    "        N = MatInd[i,j] -1\n",
    "        S = MatInd[i,j] +1\n",
    "            \n",
    "    if j == 0:\n",
    "        W = MatInd[i,j] + dimP - dimM\n",
    "        E = MatInd[i,j] + dimM\n",
    "\n",
    "    elif j == (dimM-1):\n",
    "        W = MatInd[i,j] - dimM\n",
    "        E = MatInd[i,j] -dimP + dimM\n",
    "\n",
    "    else: \n",
    "        W = MatInd[i,j] - dimM\n",
    "        E = MatInd[i,j] + dimM\n",
    "                \n",
    "    return cellNum, N, S, W, E\n",
    "\n",
    "def createProbM(dimP, dimM, MatInd, StayP, NP, SP, WP, EP):\n",
    "    #inputs: \n",
    "    # MatInd: matrix with indices for biomass matrix cells\n",
    "    # dimM: x-dimension of biomass matrix\n",
    "    # dimP: x-dimension of probability matrix\n",
    "    # StayP, NP, SP, WP, EP: Probabilities to stay, or move North, South, West, East (should all add up to 1!)\n",
    "\n",
    "    #outputs:\n",
    "    # P: Probability matrix with transition probabilities\n",
    "    \n",
    "    #sanity check \n",
    "    if np.round((StayP + NP + SP + WP + EP), decimals = 2) != 1:\n",
    "        print(\"Probabilities don't add up to 1. Change input.\")\n",
    "        return\n",
    "    \n",
    "    P = np.zeros((dimP,dimP)) #init matrix (dim = max(index) x max(index))\n",
    "\n",
    "    for i in range(dimM): #loop through rows and columns, get indices of cell i,j and four directly adjacent cells\n",
    "        for j in range(dimM):\n",
    "            [cellNum, N, S, W, E] = indicesNeighbours(i, j, MatInd, dimM, dimP) # call function to get index of current cell + 4 adjacent ones\n",
    "            \n",
    "            P[cellNum, cellNum] = StayP #prob stay in same cell\n",
    "            P[cellNum, N] = NP #prob move up\n",
    "            P[cellNum, S] = SP #down\n",
    "            P[cellNum, W] = WP #left\n",
    "            P[cellNum, E] = EP #right\n",
    "            \n",
    "    return(P)\n",
    "\n",
    "def movement(t, dimM, dimP, endI, endJ, MatBiomass, MatInd, MatProb):\n",
    "    #inputs: \n",
    "    # t: time (e.g. 100)\n",
    "    # dimM: x-dimension of biomass matrix\n",
    "    # dimP: x-dimension of probability matrix\n",
    "    # endI: end (rows) of cells to be indexed for movement (ONLY FOR SANITY CHECK, REPLACE WITH dimM LATER!!!!)\n",
    "    # endJ: end (cols) of cells to be indexed for movement (ONLY FOR SANITY CHECK, REPLACE WITH dimM LATER!!!!)\n",
    "    # MatBiomass: matrix with biomass to be moved\n",
    "    # MatInd: matrix with indices for biomass matrix cells\n",
    "    # MatProb: matrix with transition probabilities\n",
    "\n",
    "    #outputs:\n",
    "    # biomassToMoveM: 3-D matrix (t, dimM, dimM) with the biomass in each cell at each time step (sum at each t should be same)\n",
    "   \n",
    "    biomassToMoveM = np.zeros((t, dimM, dimM)) #init matrix\n",
    "    biomassToMoveM[0,:,:] = biomassM #give starting values\n",
    "\n",
    "    for time in np.arange(1,t): #loop through time\n",
    "\n",
    "        biomassToMoveM[time,:,:] = biomassToMoveM[time-1, :,:] #init each new time step with biomass from previous time step (which is then changed)\n",
    "        #biomassToMoveM = np.stack([biomassToMoveM, matNow])\n",
    "        StayM = np.zeros((dimM, dimM)) #init matrix\n",
    "        NorthM = np.zeros((dimM, dimM))\n",
    "        SouthM = np.zeros((dimM, dimM))\n",
    "        WestM = np.zeros((dimM, dimM))\n",
    "        EastM = np.zeros((dimM, dimM))\n",
    "        \n",
    "        for i in range(endI):\n",
    "            for j in range(endJ):\n",
    "                [cellNum, N, S, W, E] = indicesNeighbours(i, j, MatInd, dimM, dimP) # call function to get index of current cell + 4 adjacent ones\n",
    "                Prob = [MatProb[cellNum, cellNum], MatProb[cellNum, N], MatProb[cellNum, S], MatProb[cellNum, W], MatProb[cellNum, E]]\n",
    "                \n",
    "                currentM = biomassToMoveM[time, i, j] #current biomass in current cell\n",
    "                X = [cellNum, N, S, W, E]\n",
    "                \n",
    "                StM = currentM*Prob[0]\n",
    "                rowMoveSt, colMoveSt = np.where(MatInd == X[0])\n",
    "                StayM[rowMoveSt[0], colMoveSt[0]] = StM\n",
    "                \n",
    "                NM = currentM*Prob[1]\n",
    "                rowMoveN, colMoveN = np.where(MatInd == X[1])\n",
    "                NorthM[rowMoveN[0], colMoveN[0]] = NM\n",
    "                \n",
    "                SM = currentM*Prob[2]\n",
    "                rowMoveS, colMoveS = np.where(MatInd == X[2])\n",
    "                SouthM[rowMoveS[0], colMoveS[0]] = SM\n",
    "                \n",
    "                WM = currentM*Prob[3]\n",
    "                rowMoveW, colMoveW = np.where(MatInd == X[3])\n",
    "                WestM[rowMoveW[0], colMoveW[0]] = WM\n",
    "                \n",
    "                EM = currentM*Prob[4]\n",
    "                rowMoveE, colMoveE = np.where(MatInd == X[4])\n",
    "                EastM[rowMoveE[0], colMoveE[0]] = EM\n",
    "                \n",
    "                NewM = StayM + NorthM + SouthM + WestM + EastM\n",
    "                \n",
    "        biomassToMoveM[time,:,:] = NewM\n",
    "\n",
    "\n",
    "    \n",
    "    print(\"Start Biomass:\", np.sum(biomassToMoveM[0,:,:]), \"End Biomass:\", np.sum(biomassToMoveM[t-1,:,:]))\n",
    "    return biomassToMoveM"
   ]
  },
  {
   "cell_type": "markdown",
   "id": "06484bb1",
   "metadata": {},
   "source": [
    "### Initialise matrices"
   ]
  },
  {
   "cell_type": "markdown",
   "id": "dc9f673a",
   "metadata": {},
   "source": [
    "Initialise the biomass matrix and the index matrix needed for the creation of the probability matrix. Only have biomass in a small proportion of the biomass matrix and then let it only move into a certain direction (high probability) to check that algorithm is working properly."
   ]
  },
  {
   "cell_type": "code",
   "execution_count": 30,
   "id": "33f40671",
   "metadata": {},
   "outputs": [],
   "source": [
    "dimM = 10\n",
    "dimP = 100\n",
    "\n",
    "biomass=[]\n",
    "n=9\n",
    "for i in range(n):\n",
    "    biomass.append(random.randint(60,80))\n",
    "\n",
    "biomassM = np.zeros((dimM,dimM))\n",
    "biomassMsmall = np.array(biomass).reshape(3,3)\n",
    "biomassM[3:6, 5:8] = biomassMsmall\n",
    "\n",
    "indexCellM = np.arange(0,100).reshape(10,10).transpose() #transpose to make indices same order as in matlab"
   ]
  },
  {
   "cell_type": "markdown",
   "id": "c9548f78",
   "metadata": {},
   "source": [
    "### Create Probability Matrix"
   ]
  },
  {
   "cell_type": "markdown",
   "id": "c8097201",
   "metadata": {},
   "source": [
    "Create matrix that gives the probability to get from every cell (indexed) to every other cell. Because transitions are only possible to the four adjacent cells, the matrix is mostly filled with zero values. Move the small proportion of biomass (3x3 in 10x10 matrix) in a certain direction (e.g. North: assign very high probability to go North)."
   ]
  },
  {
   "cell_type": "code",
   "execution_count": 34,
   "id": "10f35e96",
   "metadata": {},
   "outputs": [],
   "source": [
    "P = createProbM(dimP, dimM, MatInd = indexCellM, StayP = 0.1, NP = 0.0, SP = 0.0, WP = 0.9, EP = 0.0)"
   ]
  },
  {
   "cell_type": "markdown",
   "id": "f984b6e7",
   "metadata": {},
   "source": [
    "### Movement"
   ]
  },
  {
   "cell_type": "markdown",
   "id": "284c9742",
   "metadata": {},
   "source": [
    "Run the actual movement. For a specific cell i,j, a movement option is chosen based on the provided probabilities (a neighbouring cell or \"stay\" option drawn from provided probability distribution). This leads to biomass being subtracted from cell i,j (if option != \"stay\") and the same amount being added to the drawn adjacent cell to prevent biomass from being created or destroyed. "
   ]
  },
  {
   "cell_type": "code",
   "execution_count": 35,
   "id": "c544e599",
   "metadata": {},
   "outputs": [
    {
     "name": "stdout",
     "output_type": "stream",
     "text": [
      "Start Biomass: 629.0 End Biomass: 629.0000000000018\n"
     ]
    }
   ],
   "source": [
    "biomassToMoveM = movement(t = 100, dimM = dimM, dimP = dimP, endI = dimM, endJ = dimM, \n",
    "                          MatBiomass = biomassM, MatInd = indexCellM, MatProb = P)"
   ]
  },
  {
   "cell_type": "markdown",
   "id": "f876895e",
   "metadata": {},
   "source": [
    "### Visualise time series"
   ]
  },
  {
   "cell_type": "code",
   "execution_count": null,
   "id": "695cf9e5",
   "metadata": {},
   "outputs": [],
   "source": [
    "#plt.rcParams[\"figure.figsize\"] = [7.50, 3.50]\n",
    "plt.rcParams[\"figure.autolayout\"] = True\n",
    "\n",
    "fig, ax = plt.subplots()\n",
    "nx = dimM\n",
    "ny = dimM\n",
    "\n",
    "maxVal = 100 #to see outcome better\n",
    "\n",
    "line2d, = ax.plot([], [], lw=2)\n",
    "\n",
    "ax_global = ax\n",
    "\n",
    "data = biomassToMoveM[0,:,:]\n",
    "sns.heatmap(data, vmin=0, vmax=maxVal)\n",
    "\n",
    "def init_heatmap():\n",
    "    line2d.set_data([], [])\n",
    "    sns.heatmap(data, ax=ax_global,  vmin=0, vmax=maxVal, cbar=False)\n",
    "    return (line2d,)\n",
    "\n",
    "\n",
    "def animate_heatmap(i):\n",
    "    data = biomassToMoveM[i,:,:]\n",
    "    sns.heatmap(data, ax=ax_global, vmin=0, vmax=maxVal, cbar=False)\n",
    "    ax.set_title('Frame: ' + str(i))    \n",
    "\n",
    "    return (line2d,)\n",
    "\n",
    "anim = animation.FuncAnimation(fig, animate_heatmap, init_func=init_heatmap,\n",
    "                              frames=100, interval=150, blit=True, repeat=False)\n",
    "\n",
    "anim.save('dynamic_images.mp4')\n",
    "\n",
    "plt.close()\n",
    "HTML(anim.to_html5_video())    "
   ]
  },
  {
   "cell_type": "markdown",
   "id": "c14b4c47",
   "metadata": {},
   "source": [
    "### Sanity check 1: Accumulation in the last row\n"
   ]
  },
  {
   "cell_type": "markdown",
   "id": "d78c0dce",
   "metadata": {},
   "source": [
    "When the last row is not indexed and movement is possible North or South, there should be an accumulation of biomass in the last row, since biomass moves in but cannot leave the cell anymore.\n"
   ]
  },
  {
   "cell_type": "code",
   "execution_count": null,
   "id": "05b1753f",
   "metadata": {},
   "outputs": [],
   "source": [
    "biomassToMoveM = movement(t = 100, dimM = dimM, dimP = dimP, endI = dimM - 1, endJ = dimM, \n",
    "                          MatBiomass = biomassM, MatInd = indexCellM, MatProb = P, amountToMove = 10)"
   ]
  },
  {
   "cell_type": "code",
   "execution_count": null,
   "id": "8c4ad17b",
   "metadata": {},
   "outputs": [],
   "source": [
    "#plt.rcParams[\"figure.figsize\"] = [7.50, 3.50]\n",
    "plt.rcParams[\"figure.autolayout\"] = True\n",
    "\n",
    "fig, ax = plt.subplots()\n",
    "nx = dimM\n",
    "ny = dimM\n",
    "\n",
    "maxVal = 100\n",
    "\n",
    "line2d, = ax.plot([], [], lw=2)\n",
    "\n",
    "ax_global = ax\n",
    "\n",
    "data = biomassToMoveM[0,:,:]\n",
    "sns.heatmap(data, vmin=0, vmax=maxVal)\n",
    "\n",
    "def init_heatmap():\n",
    "    line2d.set_data([], [])\n",
    "    sns.heatmap(data, ax=ax_global,  vmin=0, vmax=maxVal, cbar=False)\n",
    "    return (line2d,)\n",
    "\n",
    "\n",
    "def animate_heatmap(i):\n",
    "    data = biomassToMoveM[i,:,:]\n",
    "    sns.heatmap(data, ax=ax_global, vmin=0, vmax=maxVal, cbar=False)\n",
    "    ax.set_title('Frame: ' + str(i))    \n",
    "\n",
    "    return (line2d,)\n",
    "\n",
    "anim = animation.FuncAnimation(fig, animate_heatmap, init_func=init_heatmap,\n",
    "                              frames=100, interval=150, blit=True, repeat=False)\n",
    "\n",
    "plt.close()\n",
    "HTML(anim.to_html5_video())    "
   ]
  },
  {
   "cell_type": "markdown",
   "id": "e45e8e1a",
   "metadata": {},
   "source": [
    "### Sanity check 2: Biomass not in every cell"
   ]
  },
  {
   "cell_type": "markdown",
   "id": "be863179",
   "metadata": {},
   "source": [
    "Only have biomass in a small proportion of the biomass matrix and then let it only move into a certain direction (high probability) to check that algorithm is working properly."
   ]
  },
  {
   "cell_type": "code",
   "execution_count": null,
   "id": "6c9915d3",
   "metadata": {},
   "outputs": [],
   "source": [
    "biomass=[]\n",
    "n=9\n",
    "for i in range(n):\n",
    "    biomass.append(random.randint(60,80))\n",
    "\n",
    "#indexCell = np.arange(0,100)\n",
    "biomassM = np.zeros((dimM,dimM))\n",
    "biomassMsmall = np.array(biomass).reshape(3,3)\n",
    "biomassM[3:6, 5:8] = biomassMsmall"
   ]
  },
  {
   "cell_type": "markdown",
   "id": "e1d5b1bb",
   "metadata": {},
   "source": [
    "Move the small proportion of biomass (3x3 in 10x10 matrix) in a certain direction (e.g. North: assign very high probability to go North)."
   ]
  },
  {
   "cell_type": "code",
   "execution_count": null,
   "id": "44271840",
   "metadata": {},
   "outputs": [],
   "source": [
    "P = createProbM(dimP, dimM, MatInd = indexCellM, StayP = 0.1, NP = 0.9, SP = 0.0, WP = 0.0, EP = 0.0)"
   ]
  },
  {
   "cell_type": "code",
   "execution_count": null,
   "id": "fccd98dc",
   "metadata": {},
   "outputs": [],
   "source": [
    "biomassToMoveM = movement(t = 100, dimM = dimM, dimP = dimP, endI = dimM, endJ = dimM, \n",
    "                          MatBiomass = biomassM, MatInd = indexCellM, MatProb = P, amountToMove = 10)"
   ]
  },
  {
   "cell_type": "code",
   "execution_count": null,
   "id": "ed395dc4",
   "metadata": {},
   "outputs": [],
   "source": [
    "#plt.rcParams[\"figure.figsize\"] = [7.50, 3.50]\n",
    "plt.rcParams[\"figure.autolayout\"] = True\n",
    "\n",
    "fig, ax = plt.subplots()\n",
    "nx = dimM\n",
    "ny = dimM\n",
    "\n",
    "maxVal = 100\n",
    "\n",
    "line2d, = ax.plot([], [], lw=2)\n",
    "\n",
    "ax_global = ax\n",
    "\n",
    "data = biomassToMoveM[0,:,:]\n",
    "sns.heatmap(data, vmin=0, vmax=maxVal)\n",
    "\n",
    "def init_heatmap():\n",
    "    line2d.set_data([], [])\n",
    "    sns.heatmap(data, ax=ax_global,  vmin=0, vmax=maxVal, cbar=False)\n",
    "    return (line2d,)\n",
    "\n",
    "\n",
    "def animate_heatmap(i):\n",
    "    data = biomassToMoveM[i,:,:]\n",
    "    sns.heatmap(data, ax=ax_global, vmin=0, vmax=maxVal, cbar=False)\n",
    "    ax.set_title('Frame: ' + str(i))    \n",
    "\n",
    "    return (line2d,)\n",
    "\n",
    "anim = animation.FuncAnimation(fig, animate_heatmap, init_func=init_heatmap,\n",
    "                              frames=100, interval=150, blit=True, repeat=False)\n",
    "\n",
    "plt.close()\n",
    "HTML(anim.to_html5_video())    "
   ]
  },
  {
   "cell_type": "markdown",
   "id": "70d5b8e6",
   "metadata": {},
   "source": [
    "### Next steps"
   ]
  },
  {
   "cell_type": "markdown",
   "id": "f167c907",
   "metadata": {},
   "source": [
    "Create actual transition matrices based on crossing probabilities from tracer data and model output and downscale the crossing times to a consistent time scale for all four directions."
   ]
  }
 ],
 "metadata": {
  "kernelspec": {
   "display_name": "Python 3 (ipykernel)",
   "language": "python",
   "name": "python3"
  },
  "language_info": {
   "codemirror_mode": {
    "name": "ipython",
    "version": 3
   },
   "file_extension": ".py",
   "mimetype": "text/x-python",
   "name": "python",
   "nbconvert_exporter": "python",
   "pygments_lexer": "ipython3",
   "version": "3.7.13"
  }
 },
 "nbformat": 4,
 "nbformat_minor": 5
}
